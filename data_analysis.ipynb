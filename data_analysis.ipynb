{
 "cells": [
  {
   "cell_type": "markdown",
   "metadata": {},
   "source": [
    "# Задание по анализу данных\n",
    "\n",
    "#### Группа: 530повс\n",
    "#### Фамилия, имя: Демьянов Иван"
   ]
  },
  {
   "cell_type": "markdown",
   "metadata": {
    "tags": []
   },
   "source": [
    "## Импорт библиотек, загрузка и предобработка данных, предварительный анализ"
   ]
  },
  {
   "cell_type": "markdown",
   "metadata": {
    "tags": []
   },
   "source": [
    "### Импорт библиотек"
   ]
  },
  {
   "cell_type": "code",
   "execution_count": 1,
   "metadata": {},
   "outputs": [],
   "source": [
    "import matplotlib\n",
    "%matplotlib inline\n",
    "import matplotlib.pyplot as plt\n",
    "import pandas as pd\n",
    "import numpy as np\n",
    "\n",
    "import warnings\n",
    "warnings.filterwarnings('ignore')\n",
    "\n",
    "from sklearn.pipeline import Pipeline\n",
    "from sklearn.impute import SimpleImputer\n",
    "from sklearn.compose import ColumnTransformer\n",
    "from sklearn.preprocessing import OneHotEncoder, RobustScaler"
   ]
  },
  {
   "cell_type": "markdown",
   "metadata": {
    "tags": []
   },
   "source": [
    "### Загрузка данных, предварительный анализ"
   ]
  },
  {
   "cell_type": "code",
   "execution_count": 2,
   "metadata": {},
   "outputs": [
    {
     "data": {
      "text/html": [
       "<div>\n",
       "<style scoped>\n",
       "    .dataframe tbody tr th:only-of-type {\n",
       "        vertical-align: middle;\n",
       "    }\n",
       "\n",
       "    .dataframe tbody tr th {\n",
       "        vertical-align: top;\n",
       "    }\n",
       "\n",
       "    .dataframe thead th {\n",
       "        text-align: right;\n",
       "    }\n",
       "</style>\n",
       "<table border=\"1\" class=\"dataframe\">\n",
       "  <thead>\n",
       "    <tr style=\"text-align: right;\">\n",
       "      <th></th>\n",
       "      <th>snapshot_dt</th>\n",
       "      <th>agreement</th>\n",
       "      <th>customer</th>\n",
       "      <th>f_triggered</th>\n",
       "      <th>a76154d74182dbdbe69cc30b71b94709</th>\n",
       "      <th>713bc35ae4a64ec4790712ab3ff2e7b0</th>\n",
       "      <th>142642bce57cac3a54f26d9c4a4ea164</th>\n",
       "      <th>64879933ebbcd196512dd71dede1b7fc</th>\n",
       "      <th>41b8f61fa021d3421510284f8e8ed8e6</th>\n",
       "      <th>d70cf72daf09e847b9d98f5cd110e874</th>\n",
       "      <th>...</th>\n",
       "      <th>b62f1cae6504d09ae4456042bc924802</th>\n",
       "      <th>cbdcd5b4417b44615f4205f532c09bf8</th>\n",
       "      <th>de41cfed08599c3ed288a56edcc5c768</th>\n",
       "      <th>7218c484a45b5cf830285bff9b436a9e</th>\n",
       "      <th>9a97b46bc29290671213a1d7f21016b9</th>\n",
       "      <th>8ce7e1924c8891f9ca267c926a71d4ad</th>\n",
       "      <th>7e9b2e50b011024e81f5c646fb436e28</th>\n",
       "      <th>bb496ecdfaf5fc8772d00ae34048ec29</th>\n",
       "      <th>5a105e8b9d40e1329780d62ea2265d8a</th>\n",
       "      <th>ad0234829205b9033196ba818f7a872b</th>\n",
       "    </tr>\n",
       "  </thead>\n",
       "  <tbody>\n",
       "    <tr>\n",
       "      <th>0</th>\n",
       "      <td>1525132800</td>\n",
       "      <td>243994109</td>\n",
       "      <td>24006620</td>\n",
       "      <td>0</td>\n",
       "      <td>0</td>\n",
       "      <td>-1</td>\n",
       "      <td>0</td>\n",
       "      <td>018</td>\n",
       "      <td>0</td>\n",
       "      <td>-1</td>\n",
       "      <td>...</td>\n",
       "      <td>018</td>\n",
       "      <td>0</td>\n",
       "      <td>-1</td>\n",
       "      <td>0.0</td>\n",
       "      <td>-1</td>\n",
       "      <td>1.0</td>\n",
       "      <td>-1</td>\n",
       "      <td>NaN</td>\n",
       "      <td>1</td>\n",
       "      <td>1</td>\n",
       "    </tr>\n",
       "    <tr>\n",
       "      <th>1</th>\n",
       "      <td>1543622400</td>\n",
       "      <td>360081744</td>\n",
       "      <td>219930273</td>\n",
       "      <td>0</td>\n",
       "      <td>1</td>\n",
       "      <td>0,159903995</td>\n",
       "      <td>0</td>\n",
       "      <td>01A</td>\n",
       "      <td>21,62523364</td>\n",
       "      <td>-1</td>\n",
       "      <td>...</td>\n",
       "      <td>01C</td>\n",
       "      <td>0</td>\n",
       "      <td>-1</td>\n",
       "      <td>0.0</td>\n",
       "      <td>-1</td>\n",
       "      <td>0.0</td>\n",
       "      <td>-1</td>\n",
       "      <td>NaN</td>\n",
       "      <td>0</td>\n",
       "      <td>1</td>\n",
       "    </tr>\n",
       "    <tr>\n",
       "      <th>2</th>\n",
       "      <td>1535760000</td>\n",
       "      <td>163557019</td>\n",
       "      <td>22068418</td>\n",
       "      <td>0</td>\n",
       "      <td>inf</td>\n",
       "      <td>0,994352347</td>\n",
       "      <td>0</td>\n",
       "      <td>01A</td>\n",
       "      <td>12,21153846</td>\n",
       "      <td>-1</td>\n",
       "      <td>...</td>\n",
       "      <td>019</td>\n",
       "      <td>0</td>\n",
       "      <td>-1</td>\n",
       "      <td>0.0</td>\n",
       "      <td>-1</td>\n",
       "      <td>0.0</td>\n",
       "      <td>-1</td>\n",
       "      <td>NaN</td>\n",
       "      <td>1</td>\n",
       "      <td>1</td>\n",
       "    </tr>\n",
       "    <tr>\n",
       "      <th>3</th>\n",
       "      <td>1551398400</td>\n",
       "      <td>381683214</td>\n",
       "      <td>262085392</td>\n",
       "      <td>0</td>\n",
       "      <td>0</td>\n",
       "      <td>inf</td>\n",
       "      <td>1,612903226</td>\n",
       "      <td>NaN</td>\n",
       "      <td>0</td>\n",
       "      <td>-1</td>\n",
       "      <td>...</td>\n",
       "      <td>NaN</td>\n",
       "      <td>0</td>\n",
       "      <td>-1</td>\n",
       "      <td>0.0</td>\n",
       "      <td>0,8</td>\n",
       "      <td>0.0</td>\n",
       "      <td>-1</td>\n",
       "      <td>0.0</td>\n",
       "      <td>2</td>\n",
       "      <td>2</td>\n",
       "    </tr>\n",
       "    <tr>\n",
       "      <th>4</th>\n",
       "      <td>1533081600</td>\n",
       "      <td>117405311</td>\n",
       "      <td>86867150</td>\n",
       "      <td>0</td>\n",
       "      <td>inf</td>\n",
       "      <td>3,092404128</td>\n",
       "      <td>19,20700855</td>\n",
       "      <td>017</td>\n",
       "      <td>0</td>\n",
       "      <td>-1</td>\n",
       "      <td>...</td>\n",
       "      <td>01B</td>\n",
       "      <td>0</td>\n",
       "      <td>0</td>\n",
       "      <td>0.0</td>\n",
       "      <td>-1</td>\n",
       "      <td>0.0</td>\n",
       "      <td>0</td>\n",
       "      <td>NaN</td>\n",
       "      <td>3</td>\n",
       "      <td>1</td>\n",
       "    </tr>\n",
       "    <tr>\n",
       "      <th>5</th>\n",
       "      <td>1538352000</td>\n",
       "      <td>212751282</td>\n",
       "      <td>37594210</td>\n",
       "      <td>0</td>\n",
       "      <td>NaN</td>\n",
       "      <td>-1</td>\n",
       "      <td>NaN</td>\n",
       "      <td>018</td>\n",
       "      <td>NaN</td>\n",
       "      <td>-1</td>\n",
       "      <td>...</td>\n",
       "      <td>01C</td>\n",
       "      <td>NaN</td>\n",
       "      <td>-1</td>\n",
       "      <td>NaN</td>\n",
       "      <td>NaN</td>\n",
       "      <td>NaN</td>\n",
       "      <td>-1</td>\n",
       "      <td>NaN</td>\n",
       "      <td>3</td>\n",
       "      <td>0</td>\n",
       "    </tr>\n",
       "    <tr>\n",
       "      <th>6</th>\n",
       "      <td>1543622400</td>\n",
       "      <td>126633119</td>\n",
       "      <td>86774156</td>\n",
       "      <td>0</td>\n",
       "      <td>NaN</td>\n",
       "      <td>-1</td>\n",
       "      <td>NaN</td>\n",
       "      <td>017</td>\n",
       "      <td>NaN</td>\n",
       "      <td>0,1</td>\n",
       "      <td>...</td>\n",
       "      <td>019</td>\n",
       "      <td>NaN</td>\n",
       "      <td>0,896028831</td>\n",
       "      <td>NaN</td>\n",
       "      <td>NaN</td>\n",
       "      <td>NaN</td>\n",
       "      <td>-416,31</td>\n",
       "      <td>NaN</td>\n",
       "      <td>3</td>\n",
       "      <td>2</td>\n",
       "    </tr>\n",
       "    <tr>\n",
       "      <th>7</th>\n",
       "      <td>1546300800</td>\n",
       "      <td>63808081</td>\n",
       "      <td>22843245</td>\n",
       "      <td>0</td>\n",
       "      <td>inf</td>\n",
       "      <td>inf</td>\n",
       "      <td>0</td>\n",
       "      <td>017</td>\n",
       "      <td>0</td>\n",
       "      <td>-1</td>\n",
       "      <td>...</td>\n",
       "      <td>018</td>\n",
       "      <td>0</td>\n",
       "      <td>-1</td>\n",
       "      <td>0.0</td>\n",
       "      <td>-1</td>\n",
       "      <td>0.0</td>\n",
       "      <td>0</td>\n",
       "      <td>0.0</td>\n",
       "      <td>1</td>\n",
       "      <td>2</td>\n",
       "    </tr>\n",
       "    <tr>\n",
       "      <th>8</th>\n",
       "      <td>1527811200</td>\n",
       "      <td>190815131</td>\n",
       "      <td>28338016</td>\n",
       "      <td>0</td>\n",
       "      <td>0,5</td>\n",
       "      <td>0,298048421</td>\n",
       "      <td>0</td>\n",
       "      <td>018</td>\n",
       "      <td>0</td>\n",
       "      <td>-1</td>\n",
       "      <td>...</td>\n",
       "      <td>019</td>\n",
       "      <td>0</td>\n",
       "      <td>-1</td>\n",
       "      <td>0.0</td>\n",
       "      <td>-1</td>\n",
       "      <td>0.0</td>\n",
       "      <td>-1</td>\n",
       "      <td>NaN</td>\n",
       "      <td>1</td>\n",
       "      <td>0</td>\n",
       "    </tr>\n",
       "    <tr>\n",
       "      <th>9</th>\n",
       "      <td>1527811200</td>\n",
       "      <td>329317111</td>\n",
       "      <td>90549998</td>\n",
       "      <td>0</td>\n",
       "      <td>2</td>\n",
       "      <td>-1</td>\n",
       "      <td>0</td>\n",
       "      <td>01A</td>\n",
       "      <td>0</td>\n",
       "      <td>-1</td>\n",
       "      <td>...</td>\n",
       "      <td>01C</td>\n",
       "      <td>0</td>\n",
       "      <td>-1</td>\n",
       "      <td>0.0</td>\n",
       "      <td>-1</td>\n",
       "      <td>0.0</td>\n",
       "      <td>-1</td>\n",
       "      <td>NaN</td>\n",
       "      <td>0</td>\n",
       "      <td>0</td>\n",
       "    </tr>\n",
       "  </tbody>\n",
       "</table>\n",
       "<p>10 rows × 66 columns</p>\n",
       "</div>"
      ],
      "text/plain": [
       "   snapshot_dt  agreement   customer  f_triggered  \\\n",
       "0   1525132800  243994109   24006620            0   \n",
       "1   1543622400  360081744  219930273            0   \n",
       "2   1535760000  163557019   22068418            0   \n",
       "3   1551398400  381683214  262085392            0   \n",
       "4   1533081600  117405311   86867150            0   \n",
       "5   1538352000  212751282   37594210            0   \n",
       "6   1543622400  126633119   86774156            0   \n",
       "7   1546300800   63808081   22843245            0   \n",
       "8   1527811200  190815131   28338016            0   \n",
       "9   1527811200  329317111   90549998            0   \n",
       "\n",
       "  a76154d74182dbdbe69cc30b71b94709 713bc35ae4a64ec4790712ab3ff2e7b0  \\\n",
       "0                                0                               -1   \n",
       "1                                1                      0,159903995   \n",
       "2                              inf                      0,994352347   \n",
       "3                                0                              inf   \n",
       "4                              inf                      3,092404128   \n",
       "5                              NaN                               -1   \n",
       "6                              NaN                               -1   \n",
       "7                              inf                              inf   \n",
       "8                              0,5                      0,298048421   \n",
       "9                                2                               -1   \n",
       "\n",
       "  142642bce57cac3a54f26d9c4a4ea164 64879933ebbcd196512dd71dede1b7fc  \\\n",
       "0                                0                              018   \n",
       "1                                0                              01A   \n",
       "2                                0                              01A   \n",
       "3                      1,612903226                              NaN   \n",
       "4                      19,20700855                              017   \n",
       "5                              NaN                              018   \n",
       "6                              NaN                              017   \n",
       "7                                0                              017   \n",
       "8                                0                              018   \n",
       "9                                0                              01A   \n",
       "\n",
       "  41b8f61fa021d3421510284f8e8ed8e6 d70cf72daf09e847b9d98f5cd110e874  ...  \\\n",
       "0                                0                               -1  ...   \n",
       "1                      21,62523364                               -1  ...   \n",
       "2                      12,21153846                               -1  ...   \n",
       "3                                0                               -1  ...   \n",
       "4                                0                               -1  ...   \n",
       "5                              NaN                               -1  ...   \n",
       "6                              NaN                              0,1  ...   \n",
       "7                                0                               -1  ...   \n",
       "8                                0                               -1  ...   \n",
       "9                                0                               -1  ...   \n",
       "\n",
       "   b62f1cae6504d09ae4456042bc924802 cbdcd5b4417b44615f4205f532c09bf8  \\\n",
       "0                               018                                0   \n",
       "1                               01C                                0   \n",
       "2                               019                                0   \n",
       "3                               NaN                                0   \n",
       "4                               01B                                0   \n",
       "5                               01C                              NaN   \n",
       "6                               019                              NaN   \n",
       "7                               018                                0   \n",
       "8                               019                                0   \n",
       "9                               01C                                0   \n",
       "\n",
       "  de41cfed08599c3ed288a56edcc5c768  7218c484a45b5cf830285bff9b436a9e  \\\n",
       "0                               -1                               0.0   \n",
       "1                               -1                               0.0   \n",
       "2                               -1                               0.0   \n",
       "3                               -1                               0.0   \n",
       "4                                0                               0.0   \n",
       "5                               -1                               NaN   \n",
       "6                      0,896028831                               NaN   \n",
       "7                               -1                               0.0   \n",
       "8                               -1                               0.0   \n",
       "9                               -1                               0.0   \n",
       "\n",
       "   9a97b46bc29290671213a1d7f21016b9  8ce7e1924c8891f9ca267c926a71d4ad  \\\n",
       "0                                -1                               1.0   \n",
       "1                                -1                               0.0   \n",
       "2                                -1                               0.0   \n",
       "3                               0,8                               0.0   \n",
       "4                                -1                               0.0   \n",
       "5                               NaN                               NaN   \n",
       "6                               NaN                               NaN   \n",
       "7                                -1                               0.0   \n",
       "8                                -1                               0.0   \n",
       "9                                -1                               0.0   \n",
       "\n",
       "  7e9b2e50b011024e81f5c646fb436e28 bb496ecdfaf5fc8772d00ae34048ec29  \\\n",
       "0                               -1                              NaN   \n",
       "1                               -1                              NaN   \n",
       "2                               -1                              NaN   \n",
       "3                               -1                              0.0   \n",
       "4                                0                              NaN   \n",
       "5                               -1                              NaN   \n",
       "6                          -416,31                              NaN   \n",
       "7                                0                              0.0   \n",
       "8                               -1                              NaN   \n",
       "9                               -1                              NaN   \n",
       "\n",
       "  5a105e8b9d40e1329780d62ea2265d8a  ad0234829205b9033196ba818f7a872b  \n",
       "0                                1                                 1  \n",
       "1                                0                                 1  \n",
       "2                                1                                 1  \n",
       "3                                2                                 2  \n",
       "4                                3                                 1  \n",
       "5                                3                                 0  \n",
       "6                                3                                 2  \n",
       "7                                1                                 2  \n",
       "8                                1                                 0  \n",
       "9                                0                                 0  \n",
       "\n",
       "[10 rows x 66 columns]"
      ]
     },
     "execution_count": 2,
     "metadata": {},
     "output_type": "execute_result"
    }
   ],
   "source": [
    "data = pd.read_csv('bank_dataset_hash.csv', encoding='cp1251', sep=';')\n",
    "data.head(10)"
   ]
  },
  {
   "cell_type": "code",
   "execution_count": 3,
   "metadata": {},
   "outputs": [
    {
     "data": {
      "text/html": [
       "<div>\n",
       "<style scoped>\n",
       "    .dataframe tbody tr th:only-of-type {\n",
       "        vertical-align: middle;\n",
       "    }\n",
       "\n",
       "    .dataframe tbody tr th {\n",
       "        vertical-align: top;\n",
       "    }\n",
       "\n",
       "    .dataframe thead th {\n",
       "        text-align: right;\n",
       "    }\n",
       "</style>\n",
       "<table border=\"1\" class=\"dataframe\">\n",
       "  <thead>\n",
       "    <tr style=\"text-align: right;\">\n",
       "      <th></th>\n",
       "      <th>snapshot_dt</th>\n",
       "      <th>agreement</th>\n",
       "      <th>customer</th>\n",
       "      <th>f_triggered</th>\n",
       "      <th>47b359b06b472245ebf392f89c1984d9</th>\n",
       "      <th>d1e92bd0813153b4426efe76c284962a</th>\n",
       "      <th>96ac93b9d41855f8f4154d101b7eec8f</th>\n",
       "      <th>60678ed309bcdf3a7f66c3c0eaaa1008</th>\n",
       "      <th>3ab7560edc855076c9f82a1d067260ac</th>\n",
       "      <th>713c06ee08e923ef1deb2b49e6412d08</th>\n",
       "      <th>...</th>\n",
       "      <th>1674cc7109143930d7062cf2bd15bc7a</th>\n",
       "      <th>56b9387690aec4bea7c0ead0cd2e24f7</th>\n",
       "      <th>0ca8d1267d125b2168c4d63e02f5af1e</th>\n",
       "      <th>3c267b3313e203bfca261907cbeda7f9</th>\n",
       "      <th>fc0ded9709cc8e822e4e3d5fd6e0eec2</th>\n",
       "      <th>b595cbe5ed2d1a3b983c039ae8ff405f</th>\n",
       "      <th>8ce7e1924c8891f9ca267c926a71d4ad</th>\n",
       "      <th>bb496ecdfaf5fc8772d00ae34048ec29</th>\n",
       "      <th>5a105e8b9d40e1329780d62ea2265d8a</th>\n",
       "      <th>ad0234829205b9033196ba818f7a872b</th>\n",
       "    </tr>\n",
       "  </thead>\n",
       "  <tbody>\n",
       "    <tr>\n",
       "      <th>count</th>\n",
       "      <td>1.003660e+05</td>\n",
       "      <td>1.003660e+05</td>\n",
       "      <td>1.003660e+05</td>\n",
       "      <td>100366.000000</td>\n",
       "      <td>15486.000000</td>\n",
       "      <td>15486.000000</td>\n",
       "      <td>1620.000000</td>\n",
       "      <td>1620.000000</td>\n",
       "      <td>1813.000000</td>\n",
       "      <td>1813.000000</td>\n",
       "      <td>...</td>\n",
       "      <td>100366.000000</td>\n",
       "      <td>100360.000000</td>\n",
       "      <td>15486.0</td>\n",
       "      <td>1620.00000</td>\n",
       "      <td>1620.000000</td>\n",
       "      <td>100169.000000</td>\n",
       "      <td>70705.000000</td>\n",
       "      <td>15486.000000</td>\n",
       "      <td>100366.000000</td>\n",
       "      <td>100366.000000</td>\n",
       "    </tr>\n",
       "    <tr>\n",
       "      <th>mean</th>\n",
       "      <td>1.535857e+09</td>\n",
       "      <td>2.325078e+08</td>\n",
       "      <td>9.893900e+07</td>\n",
       "      <td>0.020007</td>\n",
       "      <td>0.116557</td>\n",
       "      <td>0.000258</td>\n",
       "      <td>0.151235</td>\n",
       "      <td>-0.091975</td>\n",
       "      <td>46.217871</td>\n",
       "      <td>0.024821</td>\n",
       "      <td>...</td>\n",
       "      <td>1.109310</td>\n",
       "      <td>16.700717</td>\n",
       "      <td>0.0</td>\n",
       "      <td>0.05679</td>\n",
       "      <td>0.008025</td>\n",
       "      <td>-0.272619</td>\n",
       "      <td>0.814440</td>\n",
       "      <td>0.000258</td>\n",
       "      <td>1.499063</td>\n",
       "      <td>0.998894</td>\n",
       "    </tr>\n",
       "    <tr>\n",
       "      <th>std</th>\n",
       "      <td>9.898409e+06</td>\n",
       "      <td>1.043782e+08</td>\n",
       "      <td>6.053773e+07</td>\n",
       "      <td>0.140024</td>\n",
       "      <td>0.425732</td>\n",
       "      <td>0.016070</td>\n",
       "      <td>0.964454</td>\n",
       "      <td>0.289080</td>\n",
       "      <td>33.732513</td>\n",
       "      <td>0.165920</td>\n",
       "      <td>...</td>\n",
       "      <td>1.043677</td>\n",
       "      <td>0.457946</td>\n",
       "      <td>0.0</td>\n",
       "      <td>1.26207</td>\n",
       "      <td>0.438212</td>\n",
       "      <td>0.950576</td>\n",
       "      <td>1.926568</td>\n",
       "      <td>0.016070</td>\n",
       "      <td>1.117888</td>\n",
       "      <td>0.816319</td>\n",
       "    </tr>\n",
       "    <tr>\n",
       "      <th>min</th>\n",
       "      <td>1.519862e+09</td>\n",
       "      <td>2.972487e+07</td>\n",
       "      <td>2.075046e+07</td>\n",
       "      <td>0.000000</td>\n",
       "      <td>0.000000</td>\n",
       "      <td>0.000000</td>\n",
       "      <td>-1.000000</td>\n",
       "      <td>-1.000000</td>\n",
       "      <td>-2.000000</td>\n",
       "      <td>0.000000</td>\n",
       "      <td>...</td>\n",
       "      <td>-1.000000</td>\n",
       "      <td>16.000000</td>\n",
       "      <td>0.0</td>\n",
       "      <td>-1.00000</td>\n",
       "      <td>-1.000000</td>\n",
       "      <td>-1.000000</td>\n",
       "      <td>0.000000</td>\n",
       "      <td>0.000000</td>\n",
       "      <td>0.000000</td>\n",
       "      <td>0.000000</td>\n",
       "    </tr>\n",
       "    <tr>\n",
       "      <th>25%</th>\n",
       "      <td>1.527811e+09</td>\n",
       "      <td>1.543954e+08</td>\n",
       "      <td>4.514291e+07</td>\n",
       "      <td>0.000000</td>\n",
       "      <td>0.000000</td>\n",
       "      <td>0.000000</td>\n",
       "      <td>0.000000</td>\n",
       "      <td>0.000000</td>\n",
       "      <td>16.000000</td>\n",
       "      <td>0.000000</td>\n",
       "      <td>...</td>\n",
       "      <td>0.000000</td>\n",
       "      <td>16.000000</td>\n",
       "      <td>0.0</td>\n",
       "      <td>0.00000</td>\n",
       "      <td>0.000000</td>\n",
       "      <td>-1.000000</td>\n",
       "      <td>0.000000</td>\n",
       "      <td>0.000000</td>\n",
       "      <td>0.000000</td>\n",
       "      <td>0.000000</td>\n",
       "    </tr>\n",
       "    <tr>\n",
       "      <th>50%</th>\n",
       "      <td>1.535760e+09</td>\n",
       "      <td>2.317229e+08</td>\n",
       "      <td>8.740546e+07</td>\n",
       "      <td>0.000000</td>\n",
       "      <td>0.000000</td>\n",
       "      <td>0.000000</td>\n",
       "      <td>0.000000</td>\n",
       "      <td>0.000000</td>\n",
       "      <td>45.000000</td>\n",
       "      <td>0.000000</td>\n",
       "      <td>...</td>\n",
       "      <td>1.000000</td>\n",
       "      <td>17.000000</td>\n",
       "      <td>0.0</td>\n",
       "      <td>0.00000</td>\n",
       "      <td>0.000000</td>\n",
       "      <td>-1.000000</td>\n",
       "      <td>0.000000</td>\n",
       "      <td>0.000000</td>\n",
       "      <td>2.000000</td>\n",
       "      <td>1.000000</td>\n",
       "    </tr>\n",
       "    <tr>\n",
       "      <th>75%</th>\n",
       "      <td>1.543622e+09</td>\n",
       "      <td>3.382547e+08</td>\n",
       "      <td>1.350023e+08</td>\n",
       "      <td>0.000000</td>\n",
       "      <td>0.000000</td>\n",
       "      <td>0.000000</td>\n",
       "      <td>0.000000</td>\n",
       "      <td>0.000000</td>\n",
       "      <td>74.000000</td>\n",
       "      <td>0.000000</td>\n",
       "      <td>...</td>\n",
       "      <td>2.000000</td>\n",
       "      <td>17.000000</td>\n",
       "      <td>0.0</td>\n",
       "      <td>0.00000</td>\n",
       "      <td>0.000000</td>\n",
       "      <td>0.000000</td>\n",
       "      <td>1.000000</td>\n",
       "      <td>0.000000</td>\n",
       "      <td>2.000000</td>\n",
       "      <td>2.000000</td>\n",
       "    </tr>\n",
       "    <tr>\n",
       "      <th>max</th>\n",
       "      <td>1.551398e+09</td>\n",
       "      <td>3.980932e+08</td>\n",
       "      <td>2.908694e+08</td>\n",
       "      <td>1.000000</td>\n",
       "      <td>10.000000</td>\n",
       "      <td>1.000000</td>\n",
       "      <td>11.000000</td>\n",
       "      <td>0.000000</td>\n",
       "      <td>166.000000</td>\n",
       "      <td>2.000000</td>\n",
       "      <td>...</td>\n",
       "      <td>49.000000</td>\n",
       "      <td>17.000000</td>\n",
       "      <td>0.0</td>\n",
       "      <td>38.00000</td>\n",
       "      <td>1.000000</td>\n",
       "      <td>9.000000</td>\n",
       "      <td>28.000000</td>\n",
       "      <td>1.000000</td>\n",
       "      <td>3.000000</td>\n",
       "      <td>2.000000</td>\n",
       "    </tr>\n",
       "  </tbody>\n",
       "</table>\n",
       "<p>8 rows × 22 columns</p>\n",
       "</div>"
      ],
      "text/plain": [
       "        snapshot_dt     agreement      customer    f_triggered  \\\n",
       "count  1.003660e+05  1.003660e+05  1.003660e+05  100366.000000   \n",
       "mean   1.535857e+09  2.325078e+08  9.893900e+07       0.020007   \n",
       "std    9.898409e+06  1.043782e+08  6.053773e+07       0.140024   \n",
       "min    1.519862e+09  2.972487e+07  2.075046e+07       0.000000   \n",
       "25%    1.527811e+09  1.543954e+08  4.514291e+07       0.000000   \n",
       "50%    1.535760e+09  2.317229e+08  8.740546e+07       0.000000   \n",
       "75%    1.543622e+09  3.382547e+08  1.350023e+08       0.000000   \n",
       "max    1.551398e+09  3.980932e+08  2.908694e+08       1.000000   \n",
       "\n",
       "       47b359b06b472245ebf392f89c1984d9  d1e92bd0813153b4426efe76c284962a  \\\n",
       "count                      15486.000000                      15486.000000   \n",
       "mean                           0.116557                          0.000258   \n",
       "std                            0.425732                          0.016070   \n",
       "min                            0.000000                          0.000000   \n",
       "25%                            0.000000                          0.000000   \n",
       "50%                            0.000000                          0.000000   \n",
       "75%                            0.000000                          0.000000   \n",
       "max                           10.000000                          1.000000   \n",
       "\n",
       "       96ac93b9d41855f8f4154d101b7eec8f  60678ed309bcdf3a7f66c3c0eaaa1008  \\\n",
       "count                       1620.000000                       1620.000000   \n",
       "mean                           0.151235                         -0.091975   \n",
       "std                            0.964454                          0.289080   \n",
       "min                           -1.000000                         -1.000000   \n",
       "25%                            0.000000                          0.000000   \n",
       "50%                            0.000000                          0.000000   \n",
       "75%                            0.000000                          0.000000   \n",
       "max                           11.000000                          0.000000   \n",
       "\n",
       "       3ab7560edc855076c9f82a1d067260ac  713c06ee08e923ef1deb2b49e6412d08  \\\n",
       "count                       1813.000000                       1813.000000   \n",
       "mean                          46.217871                          0.024821   \n",
       "std                           33.732513                          0.165920   \n",
       "min                           -2.000000                          0.000000   \n",
       "25%                           16.000000                          0.000000   \n",
       "50%                           45.000000                          0.000000   \n",
       "75%                           74.000000                          0.000000   \n",
       "max                          166.000000                          2.000000   \n",
       "\n",
       "       ...  1674cc7109143930d7062cf2bd15bc7a  \\\n",
       "count  ...                     100366.000000   \n",
       "mean   ...                          1.109310   \n",
       "std    ...                          1.043677   \n",
       "min    ...                         -1.000000   \n",
       "25%    ...                          0.000000   \n",
       "50%    ...                          1.000000   \n",
       "75%    ...                          2.000000   \n",
       "max    ...                         49.000000   \n",
       "\n",
       "       56b9387690aec4bea7c0ead0cd2e24f7  0ca8d1267d125b2168c4d63e02f5af1e  \\\n",
       "count                     100360.000000                           15486.0   \n",
       "mean                          16.700717                               0.0   \n",
       "std                            0.457946                               0.0   \n",
       "min                           16.000000                               0.0   \n",
       "25%                           16.000000                               0.0   \n",
       "50%                           17.000000                               0.0   \n",
       "75%                           17.000000                               0.0   \n",
       "max                           17.000000                               0.0   \n",
       "\n",
       "       3c267b3313e203bfca261907cbeda7f9  fc0ded9709cc8e822e4e3d5fd6e0eec2  \\\n",
       "count                        1620.00000                       1620.000000   \n",
       "mean                            0.05679                          0.008025   \n",
       "std                             1.26207                          0.438212   \n",
       "min                            -1.00000                         -1.000000   \n",
       "25%                             0.00000                          0.000000   \n",
       "50%                             0.00000                          0.000000   \n",
       "75%                             0.00000                          0.000000   \n",
       "max                            38.00000                          1.000000   \n",
       "\n",
       "       b595cbe5ed2d1a3b983c039ae8ff405f  8ce7e1924c8891f9ca267c926a71d4ad  \\\n",
       "count                     100169.000000                      70705.000000   \n",
       "mean                          -0.272619                          0.814440   \n",
       "std                            0.950576                          1.926568   \n",
       "min                           -1.000000                          0.000000   \n",
       "25%                           -1.000000                          0.000000   \n",
       "50%                           -1.000000                          0.000000   \n",
       "75%                            0.000000                          1.000000   \n",
       "max                            9.000000                         28.000000   \n",
       "\n",
       "       bb496ecdfaf5fc8772d00ae34048ec29  5a105e8b9d40e1329780d62ea2265d8a  \\\n",
       "count                      15486.000000                     100366.000000   \n",
       "mean                           0.000258                          1.499063   \n",
       "std                            0.016070                          1.117888   \n",
       "min                            0.000000                          0.000000   \n",
       "25%                            0.000000                          0.000000   \n",
       "50%                            0.000000                          2.000000   \n",
       "75%                            0.000000                          2.000000   \n",
       "max                            1.000000                          3.000000   \n",
       "\n",
       "       ad0234829205b9033196ba818f7a872b  \n",
       "count                     100366.000000  \n",
       "mean                           0.998894  \n",
       "std                            0.816319  \n",
       "min                            0.000000  \n",
       "25%                            0.000000  \n",
       "50%                            1.000000  \n",
       "75%                            2.000000  \n",
       "max                            2.000000  \n",
       "\n",
       "[8 rows x 22 columns]"
      ]
     },
     "execution_count": 3,
     "metadata": {},
     "output_type": "execute_result"
    }
   ],
   "source": [
    "data.describe()"
   ]
  },
  {
   "cell_type": "code",
   "execution_count": 4,
   "metadata": {},
   "outputs": [
    {
     "data": {
      "image/png": "[encoded data removed]",
      "text/plain": [
       "<Figure size 640x480 with 1 Axes>"
      ]
     },
     "metadata": {},
     "output_type": "display_data"
    }
   ],
   "source": [
    "data.f_triggered.value_counts(normalize=True).plot(kind='bar');\n",
    "plt.title(\"Распределение целевой переменной\")\n",
    "plt.xlabel(\"Значение целевой переменной\")\n",
    "plt.ylabel(\"Плотность\")\n",
    "plt.grid()"
   ]
  },
  {
   "cell_type": "markdown",
   "metadata": {},
   "source": [
    "По распределению целевой переменной и названию датасета можно прийти к выводу, что целевая метка - довольно редкое банковское событие, например, взятие кредита.\n",
    "\n",
    "Помимо целевой переменной также доступны следующие незакодированные признаки:\n",
    "* snapshot_dt - временной срез, за который брались данные\n",
    "* agreement - идентификатор соглашения\n",
    "* customer - идентификатор клиента"
   ]
  },
  {
   "cell_type": "code",
   "execution_count": 5,
   "metadata": {},
   "outputs": [
    {
     "name": "stdout",
     "output_type": "stream",
     "text": [
      "Процент уникальных значений признака snapshot_dt --- 0.01%\n",
      "Процент уникальных значений признака agreement --- 100.00%\n",
      "Процент уникальных значений признака customer --- 100.00%\n"
     ]
    }
   ],
   "source": [
    "for column in [\"snapshot_dt\", \"agreement\", \"customer\"]:\n",
    "    print(f\"Процент уникальных значений признака {column} --- {data[column].nunique() / data.shape[0] * 100:.2f}%\")"
   ]
  },
  {
   "cell_type": "markdown",
   "metadata": {},
   "source": [
    "Поскольку процент уникальных значений идентификаторов клиента и соглашения максимален, то в рамках текущей работы эти признаки не будут использованы для обучения моделей, однако в будущем они могут быть полезны, к примеру, при повторном обращении клиента."
   ]
  },
  {
   "cell_type": "code",
   "execution_count": 6,
   "metadata": {},
   "outputs": [
    {
     "data": {
      "image/png": "[encoded data removed]",
      "text/plain": [
       "<Figure size 640x480 with 1 Axes>"
      ]
     },
     "metadata": {},
     "output_type": "display_data"
    }
   ],
   "source": [
    "data.snapshot_dt.value_counts(normalize=True).plot(kind='bar')\n",
    "plt.title(\"Распределение snapshot_dt\")\n",
    "plt.xlabel(\"Дата, за которую брались данные (в ts)\")\n",
    "plt.ylabel(\"Плотность\");"
   ]
  },
  {
   "cell_type": "markdown",
   "metadata": {},
   "source": [
    "Распределение временной метки очень похоже на равномерное $=>$ можно использовать определенное значение в качестве порогового для валидации моделей. По этой причине данный признак также не будет задействован в обучении, хотя в перспективе из временной метки модель может извлечь определенные зависимости человеческого поведения."
   ]
  },
  {
   "cell_type": "markdown",
   "metadata": {
    "tags": []
   },
   "source": [
    "### Предобработка данных"
   ]
  },
  {
   "cell_type": "code",
   "execution_count": 7,
   "metadata": {},
   "outputs": [
    {
     "name": "stdout",
     "output_type": "stream",
     "text": [
      "<class 'pandas.core.frame.DataFrame'>\n",
      "RangeIndex: 100366 entries, 0 to 100365\n",
      "Data columns (total 66 columns):\n",
      " #   Column                            Non-Null Count   Dtype  \n",
      "---  ------                            --------------   -----  \n",
      " 0   snapshot_dt                       100366 non-null  int64  \n",
      " 1   agreement                         100366 non-null  int64  \n",
      " 2   customer                          100366 non-null  int64  \n",
      " 3   f_triggered                       100366 non-null  int64  \n",
      " 4   a76154d74182dbdbe69cc30b71b94709  70705 non-null   object \n",
      " 5   713bc35ae4a64ec4790712ab3ff2e7b0  100169 non-null  object \n",
      " 6   142642bce57cac3a54f26d9c4a4ea164  70705 non-null   object \n",
      " 7   64879933ebbcd196512dd71dede1b7fc  100197 non-null  object \n",
      " 8   41b8f61fa021d3421510284f8e8ed8e6  70705 non-null   object \n",
      " 9   d70cf72daf09e847b9d98f5cd110e874  100169 non-null  object \n",
      " 10  47b359b06b472245ebf392f89c1984d9  15486 non-null   float64\n",
      " 11  a4fc43c630d53f6b4fc24dcea3cdfdd6  1620 non-null    object \n",
      " 12  20954702b0ca458c1b9cc94a2149dfae  70705 non-null   object \n",
      " 13  d1e92bd0813153b4426efe76c284962a  15486 non-null   float64\n",
      " 14  96ac93b9d41855f8f4154d101b7eec8f  1620 non-null    float64\n",
      " 15  60678ed309bcdf3a7f66c3c0eaaa1008  1620 non-null    float64\n",
      " 16  dc22bcce783424523515ca0e767f956d  100169 non-null  object \n",
      " 17  de21a72f92151bd934313db21484d8db  100366 non-null  object \n",
      " 18  6e3c7ee1446922e9affc2dec6d8515f5  70705 non-null   object \n",
      " 19  3ab7560edc855076c9f82a1d067260ac  1813 non-null    float64\n",
      " 20  c4e258b20763ff2f5eb3a9c0051b79f9  70705 non-null   object \n",
      " 21  713c06ee08e923ef1deb2b49e6412d08  1813 non-null    float64\n",
      " 22  56c259bfa606793bcebaab86f6b85433  100366 non-null  int64  \n",
      " 23  738c9267ed0535b048c9b4e6ecff0fb4  15486 non-null   float64\n",
      " 24  1674cc7109143930d7062cf2bd15bc7a  100366 non-null  int64  \n",
      " 25  b55cf545a7986b074431f2d871729ce9  100169 non-null  object \n",
      " 26  e5b53d22fc96aa7d26dc24ae635738e3  100169 non-null  object \n",
      " 27  1d211cea131c727b11e844a32fecdf60  100169 non-null  object \n",
      " 28  e2797b202accd48208bb55c5f42b3bd3  70705 non-null   object \n",
      " 29  40420d27d2213916d22d5667fa9cc79d  100169 non-null  object \n",
      " 30  56b9387690aec4bea7c0ead0cd2e24f7  100360 non-null  float64\n",
      " 31  0866c8069f8eb9325d7aff3bc11aa4c6  100169 non-null  object \n",
      " 32  d34fdde10bbb782474b10a70e8afe0f1  100169 non-null  object \n",
      " 33  74035d01c87ff94f92a02d8b4c96db89  15486 non-null   object \n",
      " 34  9592aaf089727a294080f269ded5b792  70705 non-null   object \n",
      " 35  8ba3cf3fe186dd2da23b957bb173138a  100169 non-null  object \n",
      " 36  0ca8d1267d125b2168c4d63e02f5af1e  15486 non-null   float64\n",
      " 37  3c267b3313e203bfca261907cbeda7f9  1620 non-null    float64\n",
      " 38  fc0ded9709cc8e822e4e3d5fd6e0eec2  1620 non-null    float64\n",
      " 39  6b5813ceabe68652ddab5a4aa9b721e0  100169 non-null  object \n",
      " 40  c82fc9c0e6b2751df53d7dd5c468de67  70705 non-null   object \n",
      " 41  cb943d8843fff2f8467e9302993102de  70705 non-null   object \n",
      " 42  c6f4e2f63b588bd5687ea6355b58b715  70705 non-null   object \n",
      " 43  a7e2d20b01d09c3dc6c3e7597ba74ab3  70705 non-null   object \n",
      " 44  234f65a21bdae522ae9e58d00af11dcf  100169 non-null  object \n",
      " 45  519053282a77e76f836c4e2de8b729e1  100169 non-null  object \n",
      " 46  f9608069a551280acfd81ef612ffaaa3  100169 non-null  object \n",
      " 47  51cb8124c134e01bff98d8e796f87f5a  100169 non-null  object \n",
      " 48  8e78b08a9f5993a6c3ac4bceef7a8dd8  70705 non-null   object \n",
      " 49  5d16d06d10a707e2fcdec6f8fc8c4430  100169 non-null  object \n",
      " 50  d459ebf68fc2817262bbdf585ee417fa  100169 non-null  object \n",
      " 51  754dee610d3bc5ef654ef2b9c4328c2d  15486 non-null   object \n",
      " 52  3bd82d077c83e58e0682d35477517cf0  70705 non-null   object \n",
      " 53  e4c6835684496e9fa5c8292c8bcaa4b3  100169 non-null  object \n",
      " 54  b595cbe5ed2d1a3b983c039ae8ff405f  100169 non-null  float64\n",
      " 55  26ead531bb1ccaad478f1989fc1c8d9b  70705 non-null   object \n",
      " 56  b62f1cae6504d09ae4456042bc924802  100205 non-null  object \n",
      " 57  cbdcd5b4417b44615f4205f532c09bf8  70705 non-null   object \n",
      " 58  de41cfed08599c3ed288a56edcc5c768  100169 non-null  object \n",
      " 59  7218c484a45b5cf830285bff9b436a9e  70705 non-null   object \n",
      " 60  9a97b46bc29290671213a1d7f21016b9  70705 non-null   object \n",
      " 61  8ce7e1924c8891f9ca267c926a71d4ad  70705 non-null   float64\n",
      " 62  7e9b2e50b011024e81f5c646fb436e28  100169 non-null  object \n",
      " 63  bb496ecdfaf5fc8772d00ae34048ec29  15486 non-null   float64\n",
      " 64  5a105e8b9d40e1329780d62ea2265d8a  100366 non-null  int64  \n",
      " 65  ad0234829205b9033196ba818f7a872b  100366 non-null  int64  \n",
      "dtypes: float64(14), int64(8), object(44)\n",
      "memory usage: 50.5+ MB\n"
     ]
    }
   ],
   "source": [
    "data.info()"
   ]
  },
  {
   "cell_type": "markdown",
   "metadata": {},
   "source": [
    "Исходные данные представлены в различных типах,\n",
    "\n",
    "также некоторые колонки содержат бесконечные значения($\\pm$ inf) и неопределенные значения(NaN)\n",
    "\n",
    "Для колонок с типами int64 и float64 избавимся от бесконечных значений, заменив их на максимальное и минимальное значение в соответствующей колонке. Также предположительно разделим признаки на две группы:\n",
    "* категориальные(object)\n",
    "* числовые(int64, float64)"
   ]
  },
  {
   "cell_type": "code",
   "execution_count": 8,
   "metadata": {},
   "outputs": [],
   "source": [
    "cat_features, num_features = [], []\n",
    "\n",
    "for column in data.columns[4:]:\n",
    "\n",
    "    if data[column].dtype != \"object\":\n",
    "        data[column] = data[column].astype(str)\n",
    "        data[column] = data[column].apply(lambda x: x.replace(',', '.'))\n",
    "        data[column] = pd.to_numeric(data[column], errors='coerce')\n",
    "        arr = (data[column]!= np.inf) & (data[column]!= -np.inf)\n",
    "        data[column].replace(np.inf, data[column][arr].max(), inplace=True)\n",
    "        data[column].replace(-np.inf, data[column][arr].min(), inplace=True)\n",
    "        data[column] = data[column].astype(np.float64)\n",
    "        num_features.append(column)\n",
    "    else:\n",
    "        data[column] = data[column].astype(str)\n",
    "\n",
    "cat_features = [column for column in data.columns[4:] if column not in num_features]"
   ]
  },
  {
   "cell_type": "markdown",
   "metadata": {},
   "source": [
    "## Обработка данных, разделение на обучение и валидацию"
   ]
  },
  {
   "cell_type": "markdown",
   "metadata": {},
   "source": [
    "### Разделение данных на обучение и валидацию"
   ]
  },
  {
   "cell_type": "markdown",
   "metadata": {},
   "source": [
    "Реализуем идею из прошлого раздела: выберем пороговое значение, которое будет отделять «прошлое» для нашей модели от «будущего», на котором будем валидироваться. Это довольно логично, поскольку мы хотим построить модель, которая на основании текущей информации, способна хорошо предсказывать будущее."
   ]
  },
  {
   "cell_type": "code",
   "execution_count": 9,
   "metadata": {},
   "outputs": [],
   "source": [
    "threshold_value = sorted(data.snapshot_dt.unique())[-3]\n",
    "\n",
    "test_data = data[data[\"snapshot_dt\"] > threshold_value]\n",
    "train_data = data[data[\"snapshot_dt\"] <= threshold_value]\n",
    "\n",
    "y_train = train_data.pop(\"f_triggered\")\n",
    "y_test = test_data.pop(\"f_triggered\")"
   ]
  },
  {
   "cell_type": "code",
   "execution_count": 10,
   "metadata": {},
   "outputs": [
    {
     "data": {
      "image/png": "[encoded data removed]",
      "text/plain": [
       "<Figure size 640x480 with 1 Axes>"
      ]
     },
     "metadata": {},
     "output_type": "display_data"
    }
   ],
   "source": [
    "labels = [0, 1]\n",
    "p_y_train = y_train.value_counts(normalize=True).tolist()\n",
    "p_y_test = y_test.value_counts(normalize=True).tolist()\n",
    "\n",
    "x_axis = np.arange(len(labels))\n",
    "  \n",
    "plt.bar(x_axis - 0.2, p_y_train, 0.4, label = 'Обучение')\n",
    "plt.bar(x_axis + 0.2, p_y_test, 0.4, label = 'Валидация')\n",
    "  \n",
    "plt.xticks(x_axis, labels) \n",
    "plt.xlabel(\"Значение f_triggered\")\n",
    "plt.ylabel(\"Плотность\") \n",
    "plt.title(\"Распределение целевой переменной f_triggered\") \n",
    "plt.legend()\n",
    "plt.grid()\n",
    "plt.show()"
   ]
  },
  {
   "cell_type": "markdown",
   "metadata": {},
   "source": [
    "Выше представлено сравнение распределений целевой переменной на данных из обучения и валидации. По виду распределений можно прийти к выводу, что $KL$-дивергенция будет довольно маленькой между ними, следовательно, такой способ разделения данных вполне неплохо подходит для оценки качества модели."
   ]
  },
  {
   "cell_type": "markdown",
   "metadata": {},
   "source": [
    "### Обработка данных"
   ]
  },
  {
   "cell_type": "code",
   "execution_count": 11,
   "metadata": {},
   "outputs": [],
   "source": [
    "from sklearn.preprocessing import StandardScaler\n",
    "\n",
    "preprocessor = ColumnTransformer(\n",
    "    transformers=[\n",
    "        ('num', Pipeline(steps=[\n",
    "            ('imputer', SimpleImputer(strategy='median')),\n",
    "            ('scaler', StandardScaler()\n",
    "            )\n",
    "        ]), num_features),\n",
    "        ('cat', Pipeline(steps=[\n",
    "            ('imputer', SimpleImputer(strategy='most_frequent')),\n",
    "            ('onehot', OneHotEncoder(handle_unknown='ignore')\n",
    "            )\n",
    "        ]), cat_features\n",
    "        )\n",
    "    ]\n",
    ")\n",
    "\n",
    "X_train = preprocessor.fit_transform(train_data)\n",
    "X_test = preprocessor.transform(test_data)\n"
   ]
  },
  {
   "cell_type": "markdown",
   "metadata": {
    "tags": []
   },
   "source": [
    "## Обучение и выбор модели"
   ]
  },
  {
   "cell_type": "markdown",
   "metadata": {},
   "source": [
    "Очевидно, что градиентный бустинг является SOTA-решением применимо к табличным данным, поэтому финальная модель заранее будет с ним, однако также оценим качество и других моделей:\n",
    "\n",
    "* KNN\n",
    "* Logistic Regression\n",
    "* SVM\n",
    "* Random Forest"
   ]
  },
  {
   "cell_type": "code",
   "execution_count": 12,
   "metadata": {},
   "outputs": [],
   "source": [
    "from sklearn.svm import SVC\n",
    "from sklearn.neighbors import KNeighborsClassifier\n",
    "from sklearn.linear_model import LogisticRegression\n",
    "from sklearn.ensemble import RandomForestClassifier, GradientBoostingClassifier\n",
    "from catboost import CatBoostClassifier\n",
    "\n",
    "from sklearn.metrics import roc_auc_score"
   ]
  },
  {
   "cell_type": "code",
   "execution_count": 13,
   "metadata": {},
   "outputs": [
    {
     "name": "stdout",
     "output_type": "stream",
     "text": [
      "KNN Gini: 0.13774091143964706\n"
     ]
    }
   ],
   "source": [
    "KNN = KNeighborsClassifier()\n",
    "KNN.fit(X_train, y_train)\n",
    "print(f\"KNN Gini: {2 * roc_auc_score(y_test, KNN.predict_proba(X_test)[:, 1]) - 1}\")"
   ]
  },
  {
   "cell_type": "code",
   "execution_count": 14,
   "metadata": {},
   "outputs": [
    {
     "name": "stdout",
     "output_type": "stream",
     "text": [
      "Log_Reg Gini: 0.6837362360756238\n"
     ]
    }
   ],
   "source": [
    "Log_Reg = LogisticRegression(max_iter=1000, random_state=42)\n",
    "Log_Reg.fit(X_train, y_train)\n",
    "print(f\"Log_Reg Gini: {2 * roc_auc_score(y_test, Log_Reg.predict_proba(X_test)[:, 1]) - 1}\")"
   ]
  },
  {
   "cell_type": "code",
   "execution_count": 15,
   "metadata": {},
   "outputs": [
    {
     "name": "stdout",
     "output_type": "stream",
     "text": [
      "SVM Gini: 0.10494783339915226\n"
     ]
    }
   ],
   "source": [
    "SVM = SVC(probability=True, gamma='auto', max_iter=100, random_state=42)\n",
    "SVM.fit(X_train, y_train)\n",
    "print(f\"SVM Gini: {2 * roc_auc_score(y_test, SVM.predict_proba(X_test)[:, 1]) - 1}\")"
   ]
  },
  {
   "cell_type": "code",
   "execution_count": 16,
   "metadata": {},
   "outputs": [
    {
     "name": "stdout",
     "output_type": "stream",
     "text": [
      "RF Gini: 0.45043214063174286\n"
     ]
    }
   ],
   "source": [
    "RF = RandomForestClassifier(random_state=42)\n",
    "RF.fit(X_train, y_train)\n",
    "print(f\"RF Gini: {2 * roc_auc_score(y_test, RF.predict_proba(X_test)[:, 1]) - 1}\")"
   ]
  },
  {
   "cell_type": "code",
   "execution_count": 17,
   "metadata": {},
   "outputs": [
    {
     "name": "stdout",
     "output_type": "stream",
     "text": [
      "GB Gini: 0.6851936976447599\n"
     ]
    }
   ],
   "source": [
    "CB = CatBoostClassifier(4000, max_depth=6, learning_rate=1e-3)\n",
    "CB.fit(X_train, y_train, verbose=False)\n",
    "print(f\"GB Gini: {2 * roc_auc_score(y_test, CB.predict_proba(X_test)[:, 1]) - 1}\")"
   ]
  },
  {
   "cell_type": "markdown",
   "metadata": {},
   "source": [
    "### Fine-tuning для бустинга"
   ]
  },
  {
   "cell_type": "code",
   "execution_count": 18,
   "metadata": {},
   "outputs": [],
   "source": [
    "from hyperopt import fmin, hp, tpe, Trials, space_eval, STATUS_OK\n",
    "\n",
    "# define the search space for the hyperparameters\n",
    "search_space = {'learning_rate': hp.uniform('learning_rate', 1e-3, 0.5),\n",
    "                'iterations': hp.randint('iterations',100,2000),\n",
    "                'l2_leaf_reg': hp.randint('l2_leaf_reg',1,10),\n",
    "                'depth': hp.randint('depth',1,8),\n",
    "                'bootstrap_type' : hp.choice('bootstrap_type', ['Bayesian', 'Bernoulli'])\n",
    "               }\n",
    "\n",
    "def objective(search_space):\n",
    "    model = CatBoostClassifier(**search_space,\n",
    "                              early_stopping_rounds=100,\n",
    "                              random_seed=42)\n",
    "    \n",
    "    model.fit(X = X_train, y = y_train, eval_set=(X_test, y_test), verbose=False)\n",
    "    return {'loss': model.get_best_score()['validation']['Logloss'], 'status': STATUS_OK}"
   ]
  },
  {
   "cell_type": "code",
   "execution_count": 19,
   "metadata": {},
   "outputs": [
    {
     "name": "stdout",
     "output_type": "stream",
     "text": [
      "100%|████████| 10/10 [04:58<00:00, 29.83s/trial, best loss: 0.08142900288611815]\n"
     ]
    }
   ],
   "source": [
    "# bayesian algorithm\n",
    "algorithm=tpe.suggest\n",
    "\n",
    "# search for best parameters\n",
    "best_params = fmin(\n",
    "    fn=objective,\n",
    "    space=search_space,\n",
    "    algo=algorithm,\n",
    "    max_evals=10)"
   ]
  },
  {
   "cell_type": "code",
   "execution_count": 20,
   "metadata": {},
   "outputs": [
    {
     "data": {
      "text/plain": [
       "{'bootstrap_type': 1,\n",
       " 'depth': 6,\n",
       " 'iterations': 546,\n",
       " 'l2_leaf_reg': 6,\n",
       " 'learning_rate': 0.15740164203614163}"
      ]
     },
     "execution_count": 20,
     "metadata": {},
     "output_type": "execute_result"
    }
   ],
   "source": [
    "best_params"
   ]
  },
  {
   "cell_type": "code",
   "execution_count": 21,
   "metadata": {},
   "outputs": [
    {
     "data": {
      "text/plain": [
       "1"
      ]
     },
     "execution_count": 21,
     "metadata": {},
     "output_type": "execute_result"
    }
   ],
   "source": [
    "best_params.pop(\"bootstrap_type\")"
   ]
  },
  {
   "cell_type": "code",
   "execution_count": 22,
   "metadata": {},
   "outputs": [
    {
     "data": {
      "text/plain": [
       "{'depth': 6,\n",
       " 'iterations': 546,\n",
       " 'l2_leaf_reg': 6,\n",
       " 'learning_rate': 0.15740164203614163}"
      ]
     },
     "execution_count": 22,
     "metadata": {},
     "output_type": "execute_result"
    }
   ],
   "source": [
    "best_params"
   ]
  },
  {
   "cell_type": "code",
   "execution_count": 23,
   "metadata": {},
   "outputs": [
    {
     "name": "stdout",
     "output_type": "stream",
     "text": [
      "CB_tuned Gini: 0.6884435940979168\n"
     ]
    }
   ],
   "source": [
    "CB_tuned = CatBoostClassifier(**best_params)\n",
    "CB_tuned.fit(X_train, y_train, verbose=False)\n",
    "print(f\"CB_tuned Gini: {2 * roc_auc_score(y_test, CB_tuned.predict_proba(X_test)[:, 1]) - 1}\")"
   ]
  },
  {
   "cell_type": "markdown",
   "metadata": {},
   "source": [
    "Вау, результат поразил) Даже 10 эпох тюнинга сделали свое дело, немного увеличив метрику Джини))\n",
    "К сожалению, на дальнейший тюнинг времени не остается, поэтому этот пункт будет как напутствие к дальнейшему улучшению и подтверждение того, что hyperopt - это очень хороший инструмент для fine-tuning'а моделей"
   ]
  },
  {
   "cell_type": "markdown",
   "metadata": {},
   "source": [
    "### Эксперименты с усреднением предсказаний различных моделей"
   ]
  },
  {
   "cell_type": "markdown",
   "metadata": {},
   "source": [
    "Некоторые модели показали себя вполне неплохо(логистическая регрессия), поэтому, предполагаю, будет уместно посмотреть на метрику Джини усредненного предсказания вероятностей/предсказания с весами"
   ]
  },
  {
   "cell_type": "code",
   "execution_count": 24,
   "metadata": {},
   "outputs": [
    {
     "name": "stdout",
     "output_type": "stream",
     "text": [
      "LR+CB Gini: 0.7046618533044307\n",
      "LR+CB_tuned Gini: 0.7047316233504541\n",
      "KNN+CB Gini: 0.6252317396659868\n",
      "SVM+CB Gini: 0.5328664136827925\n",
      "SVM+LR Gini: 0.5522254813699523\n"
     ]
    }
   ],
   "source": [
    "print(f\"LR+CB Gini: {2 * roc_auc_score(y_test,(Log_Reg.predict_proba(X_test)[:, 1] + CB.predict_proba(X_test)[:, 1])/2) - 1}\")\n",
    "print(f\"LR+CB_tuned Gini: {2 * roc_auc_score(y_test,(Log_Reg.predict_proba(X_test)[:, 1] + CB_tuned.predict_proba(X_test)[:, 1])/2) - 1}\")\n",
    "print(f\"KNN+CB Gini: {2 * roc_auc_score(y_test,(KNN.predict_proba(X_test)[:, 1] + CB.predict_proba(X_test)[:, 1])/2) - 1}\")\n",
    "print(f\"SVM+CB Gini: {2 * roc_auc_score(y_test,(SVM.predict_proba(X_test)[:, 1] + CB.predict_proba(X_test)[:, 1])/2) - 1}\")\n",
    "print(f\"SVM+LR Gini: {2 * roc_auc_score(y_test,(SVM.predict_proba(X_test)[:, 1] + Log_Reg.predict_proba(X_test)[:, 1])/2) - 1}\")"
   ]
  },
  {
   "cell_type": "markdown",
   "metadata": {},
   "source": [
    "По результатам экспериментов с усреднением можно однозначно сказать, что оно способно улучшить метрику Джини, так как предсказание учитывает в себе логику двух моделей(например, LR+CB учитывает вероятностный подтекст логистической регрессии и ансамблевый алгоритм). Далее проведу эксперимент со взвешиванием.."
   ]
  },
  {
   "cell_type": "code",
   "execution_count": 25,
   "metadata": {},
   "outputs": [
    {
     "name": "stdout",
     "output_type": "stream",
     "text": [
      "weighted LR+CB Gini: 0.7053229341272471\n"
     ]
    }
   ],
   "source": [
    "print(f\"weighted LR+CB Gini: {2 * roc_auc_score(y_test, 0.4*Log_Reg.predict_proba(X_test)[:, 1] + 0.6*CB.predict_proba(X_test)[:, 1]) - 1}\")"
   ]
  },
  {
   "cell_type": "markdown",
   "metadata": {},
   "source": [
    "Данный эксперимент тоже себя оправдал: взвешенная сумма гораздо робастнее обычного усреднения, поэтому можно, к примеру, подбирать веса с учетом качества моделей."
   ]
  },
  {
   "cell_type": "markdown",
   "metadata": {},
   "source": [
    "## Выводы"
   ]
  },
  {
   "cell_type": "markdown",
   "metadata": {},
   "source": [
    "* В данном ноутбуке был проведен анализ банковских данных и предложена идея их предобработки для дальнейшего использования моделями машинного обучения. Также была приведена стратегия разбиения данных на обучение и валидацию с демонстрацией визуального сходства распределений целевой переменной. Замечание: уместнее было бы назвать переменные следующим образом: X_test -> X_val, y_test -> y_val, однако это не так важно и, очевидно, не скажется на метриках.\n",
    "\n",
    "* Реализован пайплайн, который обрабатывает данные. Метрики качества моделей весьма устраивают, но в дополнение к текущей работе можно(если бы было больше времени) попробовать различные варианты обработки данных. Например, RobustScaler для шкалирования числовых признаков \n",
    "\n",
    "* Приведено сравнение моделей на преобразованных данных: бустинг показал лучший результат, так как это SOTA для табличных данных. Также приятно удивила логистическая регрессия, которая показала сравнимое с бустингом качество без особого подбора параметров и с довольно скромным временем обучения\n",
    "\n",
    "* Проведен мини-тюнинг бустинга при помощи библиотеки hyperopt, который показал, что это хорошая инициатива, если есть желание улучшить метрики качества для бустинга\n",
    "\n",
    "* Проведены эксперименты с усреднением вероятностей и взвешенной суммой, которые также показали, что это хорошая идея для дальнейших улучшений :)"
   ]
  }
 ],
 "metadata": {
  "kernelspec": {
   "display_name": "Python 3 (ipykernel)",
   "language": "python",
   "name": "python3"
  },
  "language_info": {
   "codemirror_mode": {
    "name": "ipython",
    "version": 3
   },
   "file_extension": ".py",
   "mimetype": "text/x-python",
   "name": "python",
   "nbconvert_exporter": "python",
   "pygments_lexer": "ipython3",
   "version": "3.9.13"
  },
  "latex_metadata": {
   "author": "Andreas C. M\\\"ller",
   "title": "Machine Learning with Python"
  }
 },
 "nbformat": 4,
 "nbformat_minor": 4
}
